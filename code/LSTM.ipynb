{
 "cells": [
  {
   "cell_type": "code",
   "execution_count": 1,
   "metadata": {},
   "outputs": [
    {
     "name": "stderr",
     "output_type": "stream",
     "text": [
      "Using TensorFlow backend.\n"
     ]
    }
   ],
   "source": [
    "# lstm model\n",
    "import numpy as np\n",
    "import pandas as pd\n",
    "from numpy import array\n",
    "from numpy import mean\n",
    "from numpy import std\n",
    "from numpy import dstack\n",
    "import scipy.io as sio\n",
    "from pandas import read_csv\n",
    "from sklearn.model_selection import train_test_split\n",
    "from keras.models import Sequential\n",
    "from keras.layers import Dense\n",
    "from keras.layers import Flatten\n",
    "from keras.layers import Dropout\n",
    "from keras.layers import LSTM\n",
    "from keras.utils import to_categorical\n",
    "from matplotlib import pyplot\n",
    "import os"
   ]
  },
  {
   "cell_type": "code",
   "execution_count": 2,
   "metadata": {},
   "outputs": [
    {
     "name": "stderr",
     "output_type": "stream",
     "text": [
      "C:\\Users\\Mahya\\Anaconda3\\lib\\site-packages\\scipy\\io\\matlab\\mio.py:208: MatReadWarning: Duplicate variable name \"None\" in stream - replacing previous with new\n",
      "Consider mio5.varmats_from_mat to split file into single variable files\n",
      "  matfile_dict = MR.get_variables(variable_names)\n"
     ]
    }
   ],
   "source": [
    "# load all movements\n",
    "\n",
    "skelList = list()\n",
    "exerciseList = list()\n",
    "\n",
    "for i in range(1,17):\n",
    "    \n",
    "    path, dirs, files = next(os.walk(\"data/person%i\" %i))\n",
    "    file_count = len(files)\n",
    "    \n",
    "    for j in range(1,file_count):\n",
    "        \n",
    "        mat = sio.loadmat('data/person%i/myfile%s.mat' %(i,str(j)))\n",
    "        skelSeq = mat['skelSeq']\n",
    "        skelSeq = np.around(skelSeq, decimals = 4)\n",
    "        exerciseNum = mat['exerciseNum']\n",
    "        skelList.append(skelSeq)\n",
    "        exerciseList.append(exerciseNum[0].item(0))"
   ]
  },
  {
   "cell_type": "code",
   "execution_count": 3,
   "metadata": {},
   "outputs": [
    {
     "name": "stdout",
     "output_type": "stream",
     "text": [
      "(843,)\n"
     ]
    }
   ],
   "source": [
    "exerciseList = array(exerciseList)\n",
    "print(exerciseList.shape)"
   ]
  },
  {
   "cell_type": "code",
   "execution_count": 4,
   "metadata": {},
   "outputs": [
    {
     "name": "stdout",
     "output_type": "stream",
     "text": [
      "<class 'list'>\n"
     ]
    }
   ],
   "source": [
    "skelList[0].shape\n",
    "print(type(skelList))"
   ]
  },
  {
   "cell_type": "code",
   "execution_count": 5,
   "metadata": {},
   "outputs": [
    {
     "name": "stdout",
     "output_type": "stream",
     "text": [
      "<class 'list'>\n",
      "(843,)\n",
      "<class 'numpy.ndarray'>\n"
     ]
    }
   ],
   "source": [
    "for i in range(1,len(skelList)):\n",
    "    skelList[i] = np.reshape(skelList[i], (75, skelList[i].shape[1]))\n",
    "\n",
    "print(type(skelList))\n",
    "skelList = array(skelList)\n",
    "print(skelList.shape)\n",
    "print(type(skelList))"
   ]
  },
  {
   "cell_type": "code",
   "execution_count": 6,
   "metadata": {},
   "outputs": [],
   "source": [
    "# load the dataset, returns train and test X and y elements# \n",
    "X_train, X_test, y_train, y_test = train_test_split(skelList, exerciseList, test_size=0.33, random_state=42)"
   ]
  },
  {
   "cell_type": "code",
   "execution_count": 31,
   "metadata": {},
   "outputs": [
    {
     "name": "stdout",
     "output_type": "stream",
     "text": [
      "nb_samples 224\n",
      "(564,)\n",
      "(224,)\n"
     ]
    }
   ],
   "source": [
    "n_timesteps =3\n",
    "num_features =2\n",
    "nb_samples = 224\n",
    "x_train_reshaped = np.zeros((nb_samples, look_back, num_features))\n",
    "y_train_reshaped = np.zeros((nb_samples))\n",
    "print(\"nb_samples\",nb_samples)\n",
    "print(X_train.shape)\n",
    "\n",
    "# x_train_reshaped = np.reshape(X_train,(188,3,1))\n",
    "# y_train_reshaped = np.reshape(y_train,(188))\n",
    "\n",
    "for i in range(nb_samples):\n",
    "    y_position = i + look_back\n",
    "#     x_train_reshaped[i] = X_train[i:y_position]\n",
    "    y_train_reshaped[i] = y_train[y_position]\n",
    " \n",
    "  \n",
    "print( y_train_reshaped.shape)\n"
   ]
  },
  {
   "cell_type": "code",
   "execution_count": 42,
   "metadata": {},
   "outputs": [
    {
     "name": "stdout",
     "output_type": "stream",
     "text": [
      "nb_samples 224\n",
      "(279,)\n",
      "(224,)\n"
     ]
    }
   ],
   "source": [
    "x_test_reshaped = np.zeros((nb_samples, look_back, num_features))\n",
    "y_test_reshaped = np.zeros((nb_samples))\n",
    "print(\"nb_samples\",nb_samples)\n",
    "print(X_test.shape)\n",
    "\n",
    "x_train_reshaped = np.reshape(X_train,(188,3,1))\n",
    "y_train_reshaped = np.reshape(y_train,(188))\n",
    "\n",
    "for i in range(nb_samples):\n",
    "    y_position = i + look_back\n",
    "#     x_train_reshaped[i] = X_train[i:y_position]\n",
    "    y_test_reshaped[i] = y_test[y_position]\n",
    " \n",
    "  \n",
    "# print( y_test_reshaped.shape)"
   ]
  },
  {
   "cell_type": "code",
   "execution_count": null,
   "metadata": {},
   "outputs": [],
   "source": [
    "# split into samples (e.g. 564/12 = 47)\n",
    "# samples = list()\n",
    "# length = 12\n",
    "\n",
    "# step over the 5,000 in jumps of 200\n",
    "# for i in range(0,len(X_train),length):\n",
    "#     # grab from i to i + 200\n",
    "#     sample = X_train[i:i+length]\n",
    "#     samples.append(sample)\n",
    "# print(len(samples))"
   ]
  },
  {
   "cell_type": "code",
   "execution_count": null,
   "metadata": {},
   "outputs": [],
   "source": [
    "# samples =array(samples)\n",
    "# print(samples.shape)"
   ]
  },
  {
   "cell_type": "code",
   "execution_count": null,
   "metadata": {},
   "outputs": [],
   "source": [
    "# samples = samples.reshape(len(samples),length,1)\n",
    "# print(samples.shape)"
   ]
  },
  {
   "cell_type": "code",
   "execution_count": null,
   "metadata": {},
   "outputs": [],
   "source": [
    "ysamples = list()\n",
    "length = 2\n",
    "\n",
    "# step over the 5,000 in jumps of 200\n",
    "for i in range(0,len(y_train),length):\n",
    "    # grab from i to i + 200\n",
    "    ysample = y_train[i:i+length]\n",
    "    ysamples.append(ysample)\n",
    "print(len(ysamples))\n",
    "\n",
    "ysamples =array(ysamples)\n",
    "print(ysamples.shape)\n",
    "\n",
    "ysamples = ysamples.reshape(len(ysamples),length,1)\n",
    "print(ysamples.shape)"
   ]
  },
  {
   "cell_type": "code",
   "execution_count": 44,
   "metadata": {},
   "outputs": [],
   "source": [
    "# fit and evaluate a model\n",
    "\n",
    "# 1 secons has 30 frames. we consider every movement takes 2s and15 more frames for overlapping\n",
    "#3*25=75 feature\n",
    "# n_timesteps, n_features= 75,75\n",
    "\n",
    "model = Sequential()\n",
    "model.add(LSTM(100, input_shape=(n_timesteps,num_features)))\n",
    "model.add(Dropout(0.5))\n",
    "# model.add(Dense(100, activation='relu'))\n",
    "model.add(Dense(14, activation='softmax'))\n",
    "model.compile(loss='sparse_categorical_crossentropy', optimizer='adam', metrics=['accuracy'])\n",
    "# fit network\n",
    "\n",
    "model.fit(x_train_reshaped, y_train_reshaped, epochs=200, batch_size= len(skelList), verbose= 0)\n",
    "# # evaluate model\n",
    "_, accuracy = model.evaluate(x_test_reshaped, y_test_reshaped, batch_size=64, verbose=0)"
   ]
  },
  {
   "cell_type": "code",
   "execution_count": 45,
   "metadata": {},
   "outputs": [
    {
     "name": "stdout",
     "output_type": "stream",
     "text": [
      "accuracy 0.1294642835855484\n"
     ]
    }
   ],
   "source": [
    "print(\"accuracy\",accuracy)"
   ]
  }
 ],
 "metadata": {
  "kernelspec": {
   "display_name": "Python 3",
   "language": "python",
   "name": "python3"
  },
  "language_info": {
   "codemirror_mode": {
    "name": "ipython",
    "version": 3
   },
   "file_extension": ".py",
   "mimetype": "text/x-python",
   "name": "python",
   "nbconvert_exporter": "python",
   "pygments_lexer": "ipython3",
   "version": "3.7.3"
  }
 },
 "nbformat": 4,
 "nbformat_minor": 2
}
